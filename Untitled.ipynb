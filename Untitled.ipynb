{
 "cells": [
  {
   "cell_type": "markdown",
   "metadata": {},
   "source": [
    "hash or your y = 2b630f7a4b6f49323418f27815eda4fc\n",
    "\n",
    "you hacked into facebook and got the hash of someone's password and you want to guess the password based on that. You know they follow this pattern = {a = 4, o = 0, s = 7, e = 3, i = 1} in any number of substitutions. For example: Cameron = C4meron, Cam3ron, Camer0n, ... -> C4m3r0n"
   ]
  },
  {
   "cell_type": "code",
   "execution_count": 8,
   "metadata": {},
   "outputs": [],
   "source": [
    "import hashlib \n",
    "import pandas as pd\n",
    "import numpy as np\n",
    "from urllib.request import urlopen\n",
    "\n",
    "url = 'https://www.scrapmaker.com/data/wordlists/dictionaries/webster-dictionary.txt'"
   ]
  },
  {
   "cell_type": "code",
   "execution_count": 42,
   "metadata": {},
   "outputs": [],
   "source": [
    "\n",
    "# Cameron = {Cameron, C4meron, Cam3ron, Camer0n, C4m3ron, C4mer0n, C4m3r0n}\n",
    "# the number of possible should be C(3,1) + C(3,2) + C(3,3) where C(n,k) is the combination \n",
    "\n",
    "\n",
    "dic = {'a':'4', 'o': '0','s':'7','e':'3','i':'1','A':'4','O': '0','S':'7','E':'3','I':'1'}\n",
    "\n",
    "\n",
    "    \n",
    "def swap(word,y,dic):\n",
    "    \n",
    "    '''\n",
    "    y = list of number\\index\n",
    "    return the swaped word \n",
    "    '''\n",
    "    word1 = list(word)\n",
    "    for i in y: \n",
    "        word1[i] = dic[word1[i]]\n",
    "            \n",
    "    return ''.join(word1)\n",
    "    \n",
    "    \n",
    "def index_list(word,dic):\n",
    "    '''\n",
    "    Return a list of number: index of letters that could be subsituted \n",
    "    '''\n",
    "    output = []\n",
    "    for i,char in enumerate(word): \n",
    "        if char in dic.keys():\n",
    "            output.append(i)\n",
    "            \n",
    "    return output\n",
    "            \n",
    "    \n",
    "    \n",
    "    \n",
    "    \n",
    "    \n",
    "\n"
   ]
  },
  {
   "cell_type": "markdown",
   "metadata": {},
   "source": [
    "### Python recursion for Combination function C(n,k)\n",
    "对于C(m, n)列出所有组合的问题，可以按照一下的步骤来进行编程，这次我们按从后往前的顺序来列出所有组合：\n",
    "\n",
    "　　　　　　1   选定一个元素i，在范围[m, n]内进行循环\n",
    "\n",
    "　　　　　　2   将i 作为所求组合的最后一个元素\n",
    "\n",
    "　　　　　　3   如果n-1>0，进行递归调用，求C(m-1, n-1)；否则，输出结果\n",
    "\n",
    "　　　　　　4   重复①"
   ]
  },
  {
   "cell_type": "code",
   "execution_count": 5,
   "metadata": {},
   "outputs": [],
   "source": [
    "def combination(lst,k):\n",
    "    if k==0:\n",
    "        return [[]]\n",
    "    l=[]\n",
    "    for i in range(0,len(lst)):\n",
    "        m=lst[i]\n",
    "        remLst=lst[i+1:]\n",
    "        for p in combination(remLst,k-1):\n",
    "            l.append([m]+p)\n",
    "    return l"
   ]
  },
  {
   "cell_type": "code",
   "execution_count": 46,
   "metadata": {},
   "outputs": [
    {
     "name": "stdout",
     "output_type": "stream",
     "text": [
      "['Cameron', 'C4meron', 'Cam3ron', 'Camer0n', 'C4m3ron', 'C4mer0n', 'Cam3r0n', 'C4m3r0n']\n"
     ]
    }
   ],
   "source": [
    "# Finally combine the helper functions above and define a function that shows the final result. \n",
    "word = 'Cameron'\n",
    "dic = {'a':'4', 'o': '0','s':'7','e':'3','i':'1','A':'4','O': '0','S':'7','E':'3','I':'1'}\n",
    "\n",
    "def final_word(word,dic):\n",
    "    # combination of a list of index \n",
    "    nums = index_list(word,dic)\n",
    "    sub_list = []\n",
    "    for k in range(0,len(nums)+1): \n",
    "        sub_list = sub_list + combination(nums,k)\n",
    "        \n",
    "    # transfer index to words using swap function\n",
    "    final_list = [word]\n",
    "\n",
    "    for l in sub_list: \n",
    "        if l == []:\n",
    "            final_list = final_list\n",
    "        else: \n",
    "            final_list.append(swap(word,l,dic))\n",
    "    return final_list\n",
    "\n",
    "\n",
    "print(final_word(word,dic))"
   ]
  },
  {
   "cell_type": "code",
   "execution_count": null,
   "metadata": {},
   "outputs": [],
   "source": []
  }
 ],
 "metadata": {
  "kernelspec": {
   "display_name": "Python 3",
   "language": "python",
   "name": "python3"
  },
  "language_info": {
   "codemirror_mode": {
    "name": "ipython",
    "version": 3
   },
   "file_extension": ".py",
   "mimetype": "text/x-python",
   "name": "python",
   "nbconvert_exporter": "python",
   "pygments_lexer": "ipython3",
   "version": "3.7.4"
  }
 },
 "nbformat": 4,
 "nbformat_minor": 2
}
