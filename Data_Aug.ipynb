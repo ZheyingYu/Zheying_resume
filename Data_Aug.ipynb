{
 "cells": [
  {
   "cell_type": "code",
   "execution_count": 0,
   "metadata": {
    "colab": {},
    "colab_type": "code",
    "id": "3AFgf_b3Qfpo"
   },
   "outputs": [],
   "source": [
    " from numpy import load\n",
    "import pandas as pd\n",
    "import numpy as np\n",
    "from matplotlib import pyplot as plt\n",
    "import matplotlib\n",
    "from google.colab import drive\n",
    "import os"
   ]
  },
  {
   "cell_type": "code",
   "execution_count": 0,
   "metadata": {
    "colab": {
     "base_uri": "https://localhost:8080/",
     "height": 142
    },
    "colab_type": "code",
    "id": "-Vzu7t1WQrM6",
    "outputId": "defe283b-b66e-435a-eee8-65b6778ff5f5"
   },
   "outputs": [
    {
     "name": "stdout",
     "output_type": "stream",
     "text": [
      "Go to this URL in a browser: https://accounts.google.com/o/oauth2/auth?client_id=947318989803-6bn6qk8qdgf4n4g3pfee6491hc0brc4i.apps.googleusercontent.com&redirect_uri=urn%3aietf%3awg%3aoauth%3a2.0%3aoob&response_type=code&scope=email%20https%3a%2f%2fwww.googleapis.com%2fauth%2fdocs.test%20https%3a%2f%2fwww.googleapis.com%2fauth%2fdrive%20https%3a%2f%2fwww.googleapis.com%2fauth%2fdrive.photos.readonly%20https%3a%2f%2fwww.googleapis.com%2fauth%2fpeopleapi.readonly\n",
      "\n",
      "Enter your authorization code:\n",
      "··········\n",
      "Mounted at /content/gdrive\n"
     ]
    },
    {
     "data": {
      "text/plain": [
       "['.config', 'gdrive', 'sample_data']"
      ]
     },
     "execution_count": 2,
     "metadata": {
      "tags": []
     },
     "output_type": "execute_result"
    }
   ],
   "source": [
    "drive.mount('/content/gdrive',force_remount=True)\n",
    "root_dir = \"/content/gdrive/My Drive/\"\n",
    "base_dir = root_dir + 'Segmented Numpy Data/'\n",
    "os.listdir()"
   ]
  },
  {
   "cell_type": "code",
   "execution_count": 0,
   "metadata": {
    "colab": {},
    "colab_type": "code",
    "id": "ui3nRjOQQ218"
   },
   "outputs": [],
   "source": [
    "#prepare the data from the images we cut\n",
    "\n",
    "data_output = np.zeros((1,6443008))\n",
    "data_input = np.zeros((1,6443008)) \n",
    "all_files = sorted(os.listdir(base_dir))\n",
    "\n",
    "for i in range(0,174):\n",
    "    filename = all_files[i]\n",
    "    if filename.endswith(\"seg.npz\"): \n",
    "      dict_data1 = load(base_dir + filename)\n",
    "      data_temp1 = dict_data1['arr_0']\n",
    "      data_temp1 = data_temp1.reshape(1,6443008)\n",
    "      data_output = np.vstack((data_output,data_temp1))\n",
    "    else:\n",
    "      dict_data2 = load(base_dir + filename)\n",
    "      data_temp2 = dict_data2['arr_0']\n",
    "      data_temp2 = data_temp2.reshape(1,6443008)\n",
    "      data_input = np.vstack((data_input,data_temp2))"
   ]
  },
  {
   "cell_type": "code",
   "execution_count": 0,
   "metadata": {
    "colab": {
     "base_uri": "https://localhost:8080/",
     "height": 52
    },
    "colab_type": "code",
    "id": "sOHKNhGeVVt0",
    "outputId": "285613f2-eb43-49cd-d0a8-fcd86357a17a"
   },
   "outputs": [
    {
     "name": "stdout",
     "output_type": "stream",
     "text": [
      "(87, 6443008)\n",
      "(87, 6443008)\n"
     ]
    }
   ],
   "source": [
    "data_output = np.delete(data_output,0, axis = 0)\n",
    "data_input = np.delete(data_input,0,axis = 0)\n",
    "print(data_output.shape)\n",
    "print(data_input.shape)"
   ]
  },
  {
   "cell_type": "markdown",
   "metadata": {
    "colab_type": "text",
    "id": "5B3ZLnsintro"
   },
   "source": [
    "Downsample by a factor of 2 in each dimension, which means we divided each brain into eight pieces. After that we have 696=87*8 pieces of sample\n"
   ]
  },
  {
   "cell_type": "code",
   "execution_count": 0,
   "metadata": {
    "colab": {
     "base_uri": "https://localhost:8080/",
     "height": 52
    },
    "colab_type": "code",
    "id": "8A2anWjZVg4H",
    "outputId": "d3ccc730-8b47-4935-fd11-df74163143c9"
   },
   "outputs": [
    {
     "name": "stdout",
     "output_type": "stream",
     "text": [
      "(87, 176, 208, 176)\n",
      "(87, 176, 208, 176)\n"
     ]
    }
   ],
   "source": [
    "data_input2 = data_input.reshape(87,176,208,176)\n",
    "data_output2 = data_output.reshape(87,176,208,176)\n",
    "print(data_output2.shape)\n",
    "print(data_input2.shape)"
   ]
  },
  {
   "cell_type": "code",
   "execution_count": 0,
   "metadata": {
    "colab": {},
    "colab_type": "code",
    "id": "29adpRD2BQ1I"
   },
   "outputs": [],
   "source": [
    "#remove outliers\n",
    "data_input2[data_input2 < 0] = 0\n",
    "data_input2[data_input2 > 255] = 255\n",
    "\n",
    "data_output2[data_output2 < 0] = 0\n",
    "data_output2[data_output2 > 255] = 255"
   ]
  },
  {
   "cell_type": "code",
   "execution_count": 0,
   "metadata": {
    "colab": {},
    "colab_type": "code",
    "id": "yU-mUFAfBQ5c"
   },
   "outputs": [],
   "source": [
    "#find the boundary of x, y, z axis in each image\n",
    "index = np.zeros((87,6))\n",
    "\n",
    "# x-axis\n",
    "for i in range(0,87):\n",
    "  for j in range(0,88):\n",
    "    if (np.sum(data_output2[i,j,:,:])) > 0:\n",
    "      if j > 0:\n",
    "        index[i,0] = j\n",
    "        break\n",
    "\n",
    "for i in range(0,87):\n",
    "  for k in range(175,88,-1):\n",
    "    if (np.sum(data_output2[i,k,:,:])) > 0:\n",
    "      if k < 175:\n",
    "        index[i,1] = k\n",
    "        break"
   ]
  },
  {
   "cell_type": "code",
   "execution_count": 0,
   "metadata": {
    "colab": {},
    "colab_type": "code",
    "id": "7SZLSat6Bppz"
   },
   "outputs": [],
   "source": [
    "# y-axis\n",
    "for i in range(0,87):\n",
    "  for j in range(0,104):\n",
    "    if (np.sum(data_output2[i,:,j,:])) > 0:\n",
    "      if j > 0:\n",
    "        index[i,2] = j\n",
    "        break\n",
    "\n",
    "for i in range(0,87):\n",
    "  for k in range(175,88,-1):\n",
    "    if (np.sum(data_output2[i,:,k,:])) > 0:\n",
    "      if k < 175:\n",
    "        index[i,3] = k\n",
    "        break"
   ]
  },
  {
   "cell_type": "code",
   "execution_count": 0,
   "metadata": {
    "colab": {},
    "colab_type": "code",
    "id": "JBSo5_BhBpsZ"
   },
   "outputs": [],
   "source": [
    "# z-axis\n",
    "for i in range(0,87):\n",
    "  for j in range(0,88):\n",
    "    if (np.sum(data_output2[i,:,:,j])) > 0:\n",
    "      if j > 0:\n",
    "        index[i,4] = j\n",
    "        break\n",
    "\n",
    "for i in range(0,87):\n",
    "  for k in range(175,88,-1):\n",
    "    if (np.sum(data_output2[i,:,:,k])) > 0:\n",
    "      if k < 175:\n",
    "        index[i,5] = k\n",
    "        break"
   ]
  },
  {
   "cell_type": "code",
   "execution_count": 0,
   "metadata": {
    "colab": {
     "base_uri": "https://localhost:8080/",
     "height": 87
    },
    "colab_type": "code",
    "id": "Ykk6oLj_Bpur",
    "outputId": "75efcc7e-5ae5-4749-9a5d-0ae12c21302a"
   },
   "outputs": [
    {
     "name": "stdout",
     "output_type": "stream",
     "text": [
      "(87, 176, 208, 176)\n",
      "(87, 176, 208, 176)\n",
      "(87, 80, 120, 120)\n",
      "(87, 80, 120, 120)\n"
     ]
    }
   ],
   "source": [
    "print(data_input2.shape)\n",
    "print(data_output2.shape)\n",
    "\n",
    "# The common boundaries are the following\n",
    "# x-axis (42,121)\n",
    "# y-axis (40,161)\n",
    "# z-axis (32,134)\n",
    "\n",
    "# Jimmy: We will adjust a few more or less pixels to fit a good\n",
    "#        dimension shape (Y-axis -8, Z-axis +17) for the model\n",
    "# Extract the part include ventricles\n",
    "data_input_cut = data_input2[:,42:122,41:161,24:144]\n",
    "data_output_cut = data_output2[:,42:122,41:161,24:144]\n",
    "print(data_input_cut.shape)\n",
    "print(data_output_cut.shape)\n",
    "#Final Dimension should be 80, 120,120"
   ]
  },
  {
   "cell_type": "code",
   "execution_count": 0,
   "metadata": {
    "colab": {
     "base_uri": "https://localhost:8080/",
     "height": 167
    },
    "colab_type": "code",
    "id": "-C5Gg7BxBpxq",
    "outputId": "8370aa44-ee5c-4de7-f04a-363afe3523e6"
   },
   "outputs": [
    {
     "data": {
      "text/plain": [
       "<matplotlib.image.AxesImage at 0x7fec1241fc88>"
      ]
     },
     "execution_count": 11,
     "metadata": {
      "tags": []
     },
     "output_type": "execute_result"
    },
    {
     "data": {
      "image/png": "[encoded data removed]",
      "text/plain": [
       "<Figure size 432x288 with 3 Axes>"
      ]
     },
     "metadata": {
      "needs_background": "light",
      "tags": []
     },
     "output_type": "display_data"
    }
   ],
   "source": [
    "# See the first image for example\n",
    "\n",
    "f, ax = plt.subplots(1,3)\n",
    "\n",
    "ax[0].imshow(data_input_cut[0,50,:,:],cmap=\"Greys\")\n",
    "ax[0].imshow(np.ma.masked_array(data_output_cut[0,50,:,:], data_output_cut[0,50,:,:]==0.0))\n",
    "\n",
    "ax[1].imshow(data_input_cut[0,:,50,:],cmap=\"Greys\")\n",
    "ax[1].imshow(np.ma.masked_array(data_output_cut[0,:,50,:], data_output_cut[0,:,50,:]==0.0))\n",
    "\n",
    "ax[2].imshow(data_input_cut[0,:,:,50],cmap=\"Greys\")\n",
    "ax[2].imshow(np.ma.masked_array(data_output_cut[0,:,:,50], data_output_cut[0,:,:,50]==0.0))"
   ]
  },
  {
   "cell_type": "code",
   "execution_count": 0,
   "metadata": {
    "colab": {},
    "colab_type": "code",
    "id": "zPuckW2fGIxl"
   },
   "outputs": [],
   "source": [
    "data_input_cut_flipud = np.flip(data_input_cut, axis=1)\n",
    "data_output_cut_flipud = np.flip(data_output_cut, axis=1)"
   ]
  },
  {
   "cell_type": "code",
   "execution_count": 0,
   "metadata": {
    "colab": {},
    "colab_type": "code",
    "id": "M96bZz-NMkij"
   },
   "outputs": [],
   "source": [
    "data_input_cut_fliplr = np.flip(data_input_cut, axis=2)\n",
    "data_output_cut_fliplr = np.flip(data_output_cut, axis=2)"
   ]
  },
  {
   "cell_type": "code",
   "execution_count": 0,
   "metadata": {
    "colab": {
     "base_uri": "https://localhost:8080/",
     "height": 167
    },
    "colab_type": "code",
    "id": "sB15KXbABQ-j",
    "outputId": "1b8f87d4-a443-4f73-ed6d-e422aaa20a85"
   },
   "outputs": [
    {
     "data": {
      "text/plain": [
       "<matplotlib.image.AxesImage at 0x7fec11e65978>"
      ]
     },
     "execution_count": 14,
     "metadata": {
      "tags": []
     },
     "output_type": "execute_result"
    },
    {
     "data": {
      "image/png": "[encoded data removed]",
      "text/plain": [
       "<Figure size 432x288 with 3 Axes>"
      ]
     },
     "metadata": {
      "needs_background": "light",
      "tags": []
     },
     "output_type": "display_data"
    }
   ],
   "source": [
    "# See the first image for example\n",
    "\n",
    "f, ax = plt.subplots(1,3)\n",
    "\n",
    "ax[0].imshow(data_input_cut_flipud[0,52,:,:],cmap=\"Greys\")\n",
    "ax[1].imshow(data_input_cut_flipud[0,:,52,:],cmap='gist_gray_r')\n",
    "ax[2].imshow(data_input_cut_flipud[0,:,:,52],cmap='gist_gray_r')\n",
    "\n",
    "ax[0].imshow(1-data_output_cut_flipud[0,52,:,:],cmap=\"autumn\",alpha=.1)\n",
    "ax[1].imshow(1-data_output_cut_flipud[0,:,52,:],cmap=\"autumn\",alpha=.1)\n",
    "ax[2].imshow(1-data_output_cut_flipud[0,:,:,52],cmap=\"autumn\",alpha=.1)"
   ]
  },
  {
   "cell_type": "code",
   "execution_count": 0,
   "metadata": {
    "colab": {},
    "colab_type": "code",
    "id": "qbxtrl-xIvQE"
   },
   "outputs": [],
   "source": [
    "#Stick the flip data to previous data\n",
    "data_input_cut_all = np.concatenate((data_input_cut, data_input_cut_flipud, data_input_cut_fliplr), axis=0)\n",
    "data_output_cut_all = np.concatenate((data_output_cut, data_output_cut_flipud, data_output_cut_fliplr), axis=0)"
   ]
  },
  {
   "cell_type": "code",
   "execution_count": 0,
   "metadata": {
    "colab": {
     "base_uri": "https://localhost:8080/",
     "height": 52
    },
    "colab_type": "code",
    "id": "Y2dYvgChM0W3",
    "outputId": "bb540dcb-d6d3-4d55-c916-c34650661040"
   },
   "outputs": [
    {
     "name": "stdout",
     "output_type": "stream",
     "text": [
      "(261, 80, 120, 120)\n",
      "(261, 80, 120, 120)\n"
     ]
    }
   ],
   "source": [
    "#check the total shape for both input and output\n",
    "print(data_input_cut_all.shape)\n",
    "print(data_output_cut_all.shape)"
   ]
  },
  {
   "cell_type": "code",
   "execution_count": 0,
   "metadata": {
    "colab": {
     "base_uri": "https://localhost:8080/",
     "height": 87
    },
    "colab_type": "code",
    "id": "XTSdtIlnn_0g",
    "outputId": "78c74d86-758e-46b8-af76-ea1586d2dba6"
   },
   "outputs": [
    {
     "name": "stdout",
     "output_type": "stream",
     "text": [
      "(208, 80, 120, 120)\n",
      "(53, 80, 120, 120)\n",
      "(208, 80, 120, 120)\n",
      "(53, 80, 120, 120)\n"
     ]
    }
   ],
   "source": [
    "X_dataset = data_input_cut_all\n",
    "X_train = X_dataset[0:208,0:,0:,0:]\n",
    "X_test = X_dataset[208:,0:,0:,0:]\n",
    "\n",
    "Y_dataset = data_output_cut_all\n",
    "Y_train = Y_dataset[0:208,0:,0:,0:]\n",
    "Y_test = Y_dataset[208:,0:,0:,0:]\n",
    "\n",
    "print(X_train.shape)\n",
    "print(X_test.shape)\n",
    "print(Y_train.shape)\n",
    "print(Y_test.shape)"
   ]
  },
  {
   "cell_type": "code",
   "execution_count": 0,
   "metadata": {
    "colab": {
     "base_uri": "https://localhost:8080/",
     "height": 87
    },
    "colab_type": "code",
    "id": "CURW5Z40oRV8",
    "outputId": "b2c91181-0161-4e57-b813-0b3f145acbe2"
   },
   "outputs": [
    {
     "name": "stdout",
     "output_type": "stream",
     "text": [
      "(208, 80, 120, 120, 1)\n",
      "(53, 80, 120, 120, 1)\n",
      "(208, 80, 120, 120, 1)\n",
      "(53, 80, 120, 120, 1)\n"
     ]
    }
   ],
   "source": [
    "X_train = X_train.reshape(-1, 80,120,120, 1)\n",
    "X_test = X_test.reshape(-1, 80,120,120,1)\n",
    "Y_train = Y_train.reshape(-1,80,120,120, 1)\n",
    "Y_test = Y_test.reshape(-1, 80,120,120, 1)\n",
    "\n",
    "print(X_train.shape)\n",
    "print(X_test.shape)\n",
    "print(Y_train.shape)\n",
    "print(Y_test.shape)"
   ]
  },
  {
   "cell_type": "code",
   "execution_count": 0,
   "metadata": {
    "colab": {
     "base_uri": "https://localhost:8080/",
     "height": 35
    },
    "colab_type": "code",
    "id": "XHal9QLAnfb9",
    "outputId": "436c703b-30f4-4d33-d9ce-536621c9a582"
   },
   "outputs": [
    {
     "name": "stderr",
     "output_type": "stream",
     "text": [
      "Using TensorFlow backend.\n"
     ]
    }
   ],
   "source": [
    "import keras\n",
    "from keras import backend as K\n",
    "from keras.layers.convolutional import Conv2D,Conv3D,Conv2DTranspose,MaxPooling3D,UpSampling3D\n",
    "from keras.layers import Input, Dense, Activation,Dropout\n",
    "from keras.layers import concatenate \n",
    "from keras.models import Model\n",
    "from keras.optimizers import Adam\n",
    "from keras.callbacks import ModelCheckpoint\n",
    "from keras.models import load_model"
   ]
  },
  {
   "cell_type": "code",
   "execution_count": 0,
   "metadata": {
    "colab": {
     "base_uri": "https://localhost:8080/",
     "height": 1000
    },
    "colab_type": "code",
    "id": "kbDhPGyMnfYY",
    "outputId": "bce2895f-dba1-44f0-c5fd-42cc45f18d08"
   },
   "outputs": [
    {
     "name": "stdout",
     "output_type": "stream",
     "text": [
      "Model: \"model_1\"\n",
      "__________________________________________________________________________________________________\n",
      "Layer (type)                    Output Shape         Param #     Connected to                     \n",
      "==================================================================================================\n",
      "input_1 (InputLayer)            (None, 80, 120, 120, 0                                            \n",
      "__________________________________________________________________________________________________\n",
      "conv3d_1 (Conv3D)               (None, 80, 120, 120, 224         input_1[0][0]                    \n",
      "__________________________________________________________________________________________________\n",
      "conv3d_2 (Conv3D)               (None, 80, 120, 120, 1736        conv3d_1[0][0]                   \n",
      "__________________________________________________________________________________________________\n",
      "max_pooling3d_1 (MaxPooling3D)  (None, 40, 60, 60, 8 0           conv3d_2[0][0]                   \n",
      "__________________________________________________________________________________________________\n",
      "conv3d_3 (Conv3D)               (None, 40, 60, 60, 1 3472        max_pooling3d_1[0][0]            \n",
      "__________________________________________________________________________________________________\n",
      "conv3d_4 (Conv3D)               (None, 40, 60, 60, 1 6928        conv3d_3[0][0]                   \n",
      "__________________________________________________________________________________________________\n",
      "max_pooling3d_2 (MaxPooling3D)  (None, 20, 30, 30, 1 0           conv3d_4[0][0]                   \n",
      "__________________________________________________________________________________________________\n",
      "conv3d_5 (Conv3D)               (None, 20, 30, 30, 3 13856       max_pooling3d_2[0][0]            \n",
      "__________________________________________________________________________________________________\n",
      "conv3d_6 (Conv3D)               (None, 20, 30, 30, 3 27680       conv3d_5[0][0]                   \n",
      "__________________________________________________________________________________________________\n",
      "dropout_1 (Dropout)             (None, 20, 30, 30, 3 0           conv3d_6[0][0]                   \n",
      "__________________________________________________________________________________________________\n",
      "max_pooling3d_3 (MaxPooling3D)  (None, 10, 15, 15, 3 0           dropout_1[0][0]                  \n",
      "__________________________________________________________________________________________________\n",
      "conv3d_7 (Conv3D)               (None, 10, 15, 15, 6 55360       max_pooling3d_3[0][0]            \n",
      "__________________________________________________________________________________________________\n",
      "conv3d_8 (Conv3D)               (None, 10, 15, 15, 6 110656      conv3d_7[0][0]                   \n",
      "__________________________________________________________________________________________________\n",
      "dropout_2 (Dropout)             (None, 10, 15, 15, 6 0           conv3d_8[0][0]                   \n",
      "__________________________________________________________________________________________________\n",
      "up_sampling3d_1 (UpSampling3D)  (None, 20, 30, 30, 6 0           dropout_2[0][0]                  \n",
      "__________________________________________________________________________________________________\n",
      "conv3d_9 (Conv3D)               (None, 20, 30, 30, 3 16416       up_sampling3d_1[0][0]            \n",
      "__________________________________________________________________________________________________\n",
      "concatenate_1 (Concatenate)     (None, 20, 30, 30, 6 0           conv3d_6[0][0]                   \n",
      "                                                                 conv3d_9[0][0]                   \n",
      "__________________________________________________________________________________________________\n",
      "conv3d_10 (Conv3D)              (None, 20, 30, 30, 3 55328       concatenate_1[0][0]              \n",
      "__________________________________________________________________________________________________\n",
      "up_sampling3d_2 (UpSampling3D)  (None, 40, 60, 60, 3 0           conv3d_10[0][0]                  \n",
      "__________________________________________________________________________________________________\n",
      "conv3d_11 (Conv3D)              (None, 40, 60, 60, 1 4112        up_sampling3d_2[0][0]            \n",
      "__________________________________________________________________________________________________\n",
      "concatenate_2 (Concatenate)     (None, 40, 60, 60, 3 0           conv3d_4[0][0]                   \n",
      "                                                                 conv3d_11[0][0]                  \n",
      "__________________________________________________________________________________________________\n",
      "conv3d_12 (Conv3D)              (None, 40, 60, 60, 1 13840       concatenate_2[0][0]              \n",
      "__________________________________________________________________________________________________\n",
      "conv3d_13 (Conv3D)              (None, 40, 60, 60, 1 6928        conv3d_12[0][0]                  \n",
      "__________________________________________________________________________________________________\n",
      "up_sampling3d_3 (UpSampling3D)  (None, 80, 120, 120, 0           conv3d_13[0][0]                  \n",
      "__________________________________________________________________________________________________\n",
      "conv3d_14 (Conv3D)              (None, 80, 120, 120, 1032        up_sampling3d_3[0][0]            \n",
      "__________________________________________________________________________________________________\n",
      "concatenate_3 (Concatenate)     (None, 80, 120, 120, 0           conv3d_2[0][0]                   \n",
      "                                                                 conv3d_14[0][0]                  \n",
      "__________________________________________________________________________________________________\n",
      "conv3d_15 (Conv3D)              (None, 80, 120, 120, 3464        concatenate_3[0][0]              \n",
      "__________________________________________________________________________________________________\n",
      "conv3d_16 (Conv3D)              (None, 80, 120, 120, 1736        conv3d_15[0][0]                  \n",
      "__________________________________________________________________________________________________\n",
      "conv3d_17 (Conv3D)              (None, 80, 120, 120, 434         conv3d_16[0][0]                  \n",
      "__________________________________________________________________________________________________\n",
      "conv3d_18 (Conv3D)              (None, 80, 120, 120, 3           conv3d_17[0][0]                  \n",
      "==================================================================================================\n",
      "Total params: 323,205\n",
      "Trainable params: 323,205\n",
      "Non-trainable params: 0\n",
      "__________________________________________________________________________________________________\n",
      "None\n"
     ]
    },
    {
     "name": "stderr",
     "output_type": "stream",
     "text": [
      "/usr/local/lib/python3.6/dist-packages/ipykernel_launcher.py:35: UserWarning: Update your `Model` call to the Keras 2 API: `Model(inputs=Tensor(\"in..., outputs=Tensor(\"co...)`\n"
     ]
    }
   ],
   "source": [
    "input_size = (80,120,120,1)\n",
    "\n",
    "inputs = Input(input_size)\n",
    "conv1 = Conv3D(8, 3, activation = 'relu', padding = 'same', kernel_initializer = 'he_normal')(inputs)\n",
    "conv1 = Conv3D(8, 3, activation = 'relu', padding = 'same', kernel_initializer = 'he_normal')(conv1)\n",
    "pool1 = MaxPooling3D(pool_size=(2, 2, 2))(conv1)\n",
    "conv2 = Conv3D(16, 3, activation = 'relu', padding = 'same', kernel_initializer = 'he_normal')(pool1)\n",
    "conv2 = Conv3D(16, 3, activation = 'relu', padding = 'same', kernel_initializer = 'he_normal')(conv2)\n",
    "pool2 = MaxPooling3D(pool_size=(2, 2, 2))(conv2)\n",
    "conv3 = Conv3D(32, 3, activation = 'relu', padding = 'same', kernel_initializer = 'he_normal')(pool2)\n",
    "conv3 = Conv3D(32, 3, activation = 'relu', padding = 'same', kernel_initializer = 'he_normal')(conv3)\n",
    "drop3 = Dropout(0.5)(conv3)\n",
    "pool3 = MaxPooling3D(pool_size=(2, 2, 2))(drop3)\n",
    "\n",
    "conv4 = Conv3D(64, 3, activation = 'relu', padding = 'same', kernel_initializer = 'he_normal')(pool3)\n",
    "conv4 = Conv3D(64, 3, activation = 'relu', padding = 'same', kernel_initializer = 'he_normal')(conv4)\n",
    "drop4 = Dropout(0.5)(conv4)\n",
    "\n",
    "up5 = Conv3D(32, 2, activation = 'relu', padding = 'same', kernel_initializer = 'he_normal')(UpSampling3D(size = (2,2,2))(drop4))\n",
    "merge5 = concatenate([conv3,up5], axis = 4)\n",
    "conv5 = Conv3D(32, 3, activation = 'relu', padding = 'same', kernel_initializer = 'he_normal')(merge5)\n",
    "\n",
    "up6 = Conv3D(16, 2, activation = 'relu', padding = 'same', kernel_initializer = 'he_normal')(UpSampling3D(size = (2,2,2))(conv5))\n",
    "merge6 = concatenate([conv2,up6], axis = 4)\n",
    "conv6 = Conv3D(16, 3, activation = 'relu', padding = 'same', kernel_initializer = 'he_normal')(merge6)\n",
    "conv6 = Conv3D(16, 3, activation = 'relu', padding = 'same', kernel_initializer = 'he_normal')(conv6)\n",
    "\n",
    "up7 = Conv3D(8, 2, activation = 'relu', padding = 'same', kernel_initializer = 'he_normal')(UpSampling3D(size = (2,2,2))(conv6))\n",
    "merge7 = concatenate([conv1,up7], axis = 4)\n",
    "conv7 = Conv3D(8, 3, activation = 'relu', padding = 'same', kernel_initializer = 'he_normal')(merge7)\n",
    "conv7 = Conv3D(8, 3, activation = 'relu', padding = 'same', kernel_initializer = 'he_normal')(conv7)\n",
    "conv7 = Conv3D(2, 3, activation = 'relu', padding = 'same', kernel_initializer = 'he_normal')(conv7)\n",
    "conv8 = Conv3D(1, 1, activation = 'sigmoid')(conv7)\n",
    "\n",
    "model = Model(input = inputs, output = conv8)\n",
    "\n",
    "model.compile(optimizer = Adam(lr = 1e-4), loss = \"binary_crossentropy\", metrics = ['accuracy'])\n",
    "\n",
    "print(model.summary())"
   ]
  },
  {
   "cell_type": "code",
   "execution_count": 0,
   "metadata": {
    "colab": {},
    "colab_type": "code",
    "id": "CmVV19FxnfW7"
   },
   "outputs": [],
   "source": [
    "epochs = 40\n",
    "filepath = \"model_{epoch:03d}-{loss:.4f}.h5\"\n",
    "checkpoint = ModelCheckpoint(filepath, monitor='loss', verbose=1, save_best_only=False, mode='min')\n",
    "callbacks_list = [checkpoint]\n",
    "history = model.fit(X_train, \n",
    "                    Y_train, \n",
    "                    epochs=epochs, \n",
    "                    batch_size=1,\n",
    "                    verbose=1,\n",
    "                    validation_data=(X_test, Y_test),callbacks=[checkpoint])"
   ]
  },
  {
   "cell_type": "code",
   "execution_count": 0,
   "metadata": {
    "colab": {},
    "colab_type": "code",
    "id": "GQ4d5Ub5iUHa"
   },
   "outputs": [],
   "source": [
    "from google.colab import files\n",
    "files.download(\"model_024-0.0565.h5\")"
   ]
  },
  {
   "cell_type": "code",
   "execution_count": 0,
   "metadata": {
    "colab": {
     "base_uri": "https://localhost:8080/",
     "height": 1000
    },
    "colab_type": "code",
    "id": "nh5AlEykdHgS",
    "outputId": "8325ae13-c7b0-436f-a328-f57de2538499"
   },
   "outputs": [
    {
     "name": "stdout",
     "output_type": "stream",
     "text": [
      "Train on 208 samples, validate on 53 samples\n",
      "Epoch 1/40\n",
      "208/208 [==============================] - 1008s 5s/step - loss: 0.0570 - accuracy: 0.9717 - val_loss: 0.0502 - val_accuracy: 0.9790\n",
      "\n",
      "Epoch 00001: saving model to model_001-0.0570.h5\n",
      "Epoch 2/40\n",
      "208/208 [==============================] - 1013s 5s/step - loss: 0.0562 - accuracy: 0.9725 - val_loss: 0.0479 - val_accuracy: 0.9802\n",
      "\n",
      "Epoch 00002: saving model to model_002-0.0562.h5\n",
      "Epoch 3/40\n",
      "208/208 [==============================] - 1003s 5s/step - loss: 0.0570 - accuracy: 0.9733 - val_loss: 0.0518 - val_accuracy: 0.9788\n",
      "\n",
      "Epoch 00003: saving model to model_003-0.0570.h5\n",
      "Epoch 4/40\n",
      "208/208 [==============================] - 1003s 5s/step - loss: 0.0562 - accuracy: 0.9732 - val_loss: 0.0459 - val_accuracy: 0.9801\n",
      "\n",
      "Epoch 00004: saving model to model_004-0.0562.h5\n",
      "Epoch 5/40\n",
      "208/208 [==============================] - 1007s 5s/step - loss: 0.0547 - accuracy: 0.9732 - val_loss: 0.0466 - val_accuracy: 0.9801\n",
      "\n",
      "Epoch 00005: saving model to model_005-0.0547.h5\n",
      "Epoch 6/40\n",
      "208/208 [==============================] - 1003s 5s/step - loss: 0.0555 - accuracy: 0.9743 - val_loss: 0.0483 - val_accuracy: 0.9798\n",
      "\n",
      "Epoch 00006: saving model to model_006-0.0555.h5\n",
      "Epoch 7/40\n",
      "208/208 [==============================] - 1011s 5s/step - loss: 0.0547 - accuracy: 0.9741 - val_loss: 0.0456 - val_accuracy: 0.9802\n",
      "\n",
      "Epoch 00007: saving model to model_007-0.0547.h5\n",
      "Epoch 8/40\n",
      "208/208 [==============================] - 1004s 5s/step - loss: 0.0530 - accuracy: 0.9743 - val_loss: 0.0483 - val_accuracy: 0.9813\n",
      "\n",
      "Epoch 00008: saving model to model_008-0.0530.h5\n",
      "Epoch 9/40\n",
      "208/208 [==============================] - 998s 5s/step - loss: 0.0529 - accuracy: 0.9747 - val_loss: 0.0468 - val_accuracy: 0.9812\n",
      "\n",
      "Epoch 00009: saving model to model_009-0.0529.h5\n",
      "Epoch 10/40\n",
      "208/208 [==============================] - 997s 5s/step - loss: 0.0505 - accuracy: 0.9759 - val_loss: 0.0577 - val_accuracy: 0.9806\n",
      "\n",
      "Epoch 00010: saving model to model_010-0.0505.h5\n",
      "Epoch 11/40\n",
      "208/208 [==============================] - 997s 5s/step - loss: 0.0556 - accuracy: 0.9766 - val_loss: 0.0447 - val_accuracy: 0.9818\n",
      "\n",
      "Epoch 00011: saving model to model_011-0.0556.h5\n",
      "Epoch 12/40\n",
      "208/208 [==============================] - 1009s 5s/step - loss: 0.0514 - accuracy: 0.9771 - val_loss: 0.0484 - val_accuracy: 0.9818\n",
      "\n",
      "Epoch 00012: saving model to model_012-0.0514.h5\n",
      "Epoch 13/40\n",
      "208/208 [==============================] - 1005s 5s/step - loss: 0.0505 - accuracy: 0.9766 - val_loss: 0.0498 - val_accuracy: 0.9828\n",
      "\n",
      "Epoch 00013: saving model to model_013-0.0505.h5\n",
      "Epoch 14/40\n",
      "208/208 [==============================] - 1001s 5s/step - loss: 0.0536 - accuracy: 0.9775 - val_loss: 0.0532 - val_accuracy: 0.9819\n",
      "\n",
      "Epoch 00014: saving model to model_014-0.0536.h5\n",
      "Epoch 15/40\n",
      "208/208 [==============================] - 1007s 5s/step - loss: 0.0597 - accuracy: 0.9746 - val_loss: 0.0528 - val_accuracy: 0.9821\n",
      "\n",
      "Epoch 00015: saving model to model_015-0.0597.h5\n",
      "Epoch 16/40\n",
      "208/208 [==============================] - 1005s 5s/step - loss: 0.0509 - accuracy: 0.9782 - val_loss: 0.0463 - val_accuracy: 0.9843\n",
      "\n",
      "Epoch 00016: saving model to model_016-0.0509.h5\n",
      "Epoch 17/40\n",
      "208/208 [==============================] - 1009s 5s/step - loss: 0.0490 - accuracy: 0.9793 - val_loss: 0.0443 - val_accuracy: 0.9842\n",
      "\n",
      "Epoch 00017: saving model to model_017-0.0490.h5\n",
      "Epoch 18/40\n",
      "208/208 [==============================] - 1000s 5s/step - loss: 0.0474 - accuracy: 0.9797 - val_loss: 0.0439 - val_accuracy: 0.9837\n",
      "\n",
      "Epoch 00018: saving model to model_018-0.0474.h5\n",
      "Epoch 19/40\n",
      "208/208 [==============================] - 1001s 5s/step - loss: 0.0470 - accuracy: 0.9802 - val_loss: 0.0416 - val_accuracy: 0.9822\n",
      "\n",
      "Epoch 00019: saving model to model_019-0.0470.h5\n",
      "Epoch 20/40\n",
      "208/208 [==============================] - 999s 5s/step - loss: 0.0470 - accuracy: 0.9802 - val_loss: 0.0417 - val_accuracy: 0.9856\n",
      "\n",
      "Epoch 00020: saving model to model_020-0.0470.h5\n",
      "Epoch 21/40\n",
      "208/208 [==============================] - 1002s 5s/step - loss: 0.0477 - accuracy: 0.9795 - val_loss: 0.0396 - val_accuracy: 0.9849\n",
      "\n",
      "Epoch 00021: saving model to model_021-0.0477.h5\n",
      "Epoch 22/40\n",
      "208/208 [==============================] - 1001s 5s/step - loss: 0.0459 - accuracy: 0.9810 - val_loss: 0.0440 - val_accuracy: 0.9859\n",
      "\n",
      "Epoch 00022: saving model to model_022-0.0459.h5\n",
      "Epoch 23/40\n",
      "208/208 [==============================] - 1004s 5s/step - loss: 0.0461 - accuracy: 0.9800 - val_loss: 0.0412 - val_accuracy: 0.9855\n",
      "\n",
      "Epoch 00023: saving model to model_023-0.0461.h5\n",
      "Epoch 24/40\n",
      "208/208 [==============================] - 1012s 5s/step - loss: 0.0438 - accuracy: 0.9821 - val_loss: 0.0459 - val_accuracy: 0.9860\n",
      "\n",
      "Epoch 00024: saving model to model_024-0.0438.h5\n",
      "Epoch 25/40\n",
      "208/208 [==============================] - 1007s 5s/step - loss: 0.0428 - accuracy: 0.9826 - val_loss: 0.0404 - val_accuracy: 0.9865\n",
      "\n",
      "Epoch 00025: saving model to model_025-0.0428.h5\n",
      "Epoch 26/40\n",
      "208/208 [==============================] - 996s 5s/step - loss: 0.0427 - accuracy: 0.9823 - val_loss: 0.0405 - val_accuracy: 0.9869\n",
      "\n",
      "Epoch 00026: saving model to model_026-0.0427.h5\n",
      "Epoch 27/40\n",
      "208/208 [==============================] - 991s 5s/step - loss: 0.0428 - accuracy: 0.9829 - val_loss: 0.0445 - val_accuracy: 0.9854\n",
      "\n",
      "Epoch 00027: saving model to model_027-0.0428.h5\n",
      "Epoch 28/40\n",
      "208/208 [==============================] - 990s 5s/step - loss: 0.0424 - accuracy: 0.9832 - val_loss: 0.0389 - val_accuracy: 0.9860\n",
      "\n",
      "Epoch 00028: saving model to model_028-0.0424.h5\n",
      "Epoch 29/40\n",
      "208/208 [==============================] - 999s 5s/step - loss: 0.0420 - accuracy: 0.9834 - val_loss: 0.0375 - val_accuracy: 0.9855\n",
      "\n",
      "Epoch 00029: saving model to model_029-0.0420.h5\n",
      "Epoch 30/40\n",
      "208/208 [==============================] - 1004s 5s/step - loss: 0.0399 - accuracy: 0.9840 - val_loss: 0.0546 - val_accuracy: 0.9857\n",
      "\n",
      "Epoch 00030: saving model to model_030-0.0399.h5\n",
      "Epoch 31/40\n",
      "208/208 [==============================] - 1000s 5s/step - loss: 0.0403 - accuracy: 0.9838 - val_loss: 0.0458 - val_accuracy: 0.9860\n",
      "\n",
      "Epoch 00031: saving model to model_031-0.0403.h5\n",
      "Epoch 32/40\n",
      "208/208 [==============================] - 1008s 5s/step - loss: 0.0398 - accuracy: 0.9842 - val_loss: 0.0437 - val_accuracy: 0.9868\n",
      "\n",
      "Epoch 00032: saving model to model_032-0.0398.h5\n",
      "Epoch 33/40\n",
      "208/208 [==============================] - 1011s 5s/step - loss: 0.0387 - accuracy: 0.9847 - val_loss: 0.0360 - val_accuracy: 0.9873\n",
      "\n",
      "Epoch 00033: saving model to model_033-0.0387.h5\n",
      "Epoch 34/40\n",
      "208/208 [==============================] - 1004s 5s/step - loss: 0.0390 - accuracy: 0.9846 - val_loss: 0.0414 - val_accuracy: 0.9857\n",
      "\n",
      "Epoch 00034: saving model to model_034-0.0390.h5\n",
      "Epoch 35/40\n",
      "208/208 [==============================] - 996s 5s/step - loss: 0.0403 - accuracy: 0.9841 - val_loss: 0.0480 - val_accuracy: 0.9874\n",
      "\n",
      "Epoch 00035: saving model to model_035-0.0403.h5\n",
      "Epoch 36/40\n",
      "208/208 [==============================] - 996s 5s/step - loss: 0.0383 - accuracy: 0.9851 - val_loss: 0.0384 - val_accuracy: 0.9865\n",
      "\n",
      "Epoch 00036: saving model to model_036-0.0383.h5\n",
      "Epoch 37/40\n",
      "208/208 [==============================] - 1004s 5s/step - loss: 0.0388 - accuracy: 0.9850 - val_loss: 0.0469 - val_accuracy: 0.9852\n",
      "\n",
      "Epoch 00037: saving model to model_037-0.0388.h5\n",
      "Epoch 38/40\n",
      "208/208 [==============================] - 993s 5s/step - loss: 0.0382 - accuracy: 0.9852 - val_loss: 0.0375 - val_accuracy: 0.9868\n",
      "\n",
      "Epoch 00038: saving model to model_038-0.0382.h5\n",
      "Epoch 39/40\n",
      " 57/208 [=======>......................] - ETA: 11:50 - loss: 0.0311 - accuracy: 0.9873"
     ]
    },
    {
     "ename": "KeyboardInterrupt",
     "evalue": "ignored",
     "output_type": "error",
     "traceback": [
      "\u001b[0;31m---------------------------------------------------------------------------\u001b[0m",
      "\u001b[0;31mKeyboardInterrupt\u001b[0m                         Traceback (most recent call last)",
      "\u001b[0;32m<ipython-input-27-85aa8457cd26>\u001b[0m in \u001b[0;36m<module>\u001b[0;34m()\u001b[0m\n\u001b[1;32m      8\u001b[0m                     \u001b[0mbatch_size\u001b[0m\u001b[0;34m=\u001b[0m\u001b[0;36m1\u001b[0m\u001b[0;34m,\u001b[0m\u001b[0;34m\u001b[0m\u001b[0;34m\u001b[0m\u001b[0m\n\u001b[1;32m      9\u001b[0m                     \u001b[0mverbose\u001b[0m\u001b[0;34m=\u001b[0m\u001b[0;36m1\u001b[0m\u001b[0;34m,\u001b[0m\u001b[0;34m\u001b[0m\u001b[0;34m\u001b[0m\u001b[0m\n\u001b[0;32m---> 10\u001b[0;31m                     validation_data=(X_test, Y_test),callbacks=callbacks_list)\n\u001b[0m",
      "\u001b[0;32m/usr/local/lib/python3.6/dist-packages/keras/engine/training.py\u001b[0m in \u001b[0;36mfit\u001b[0;34m(self, x, y, batch_size, epochs, verbose, callbacks, validation_split, validation_data, shuffle, class_weight, sample_weight, initial_epoch, steps_per_epoch, validation_steps, validation_freq, max_queue_size, workers, use_multiprocessing, **kwargs)\u001b[0m\n\u001b[1;32m   1237\u001b[0m                                         \u001b[0msteps_per_epoch\u001b[0m\u001b[0;34m=\u001b[0m\u001b[0msteps_per_epoch\u001b[0m\u001b[0;34m,\u001b[0m\u001b[0;34m\u001b[0m\u001b[0;34m\u001b[0m\u001b[0m\n\u001b[1;32m   1238\u001b[0m                                         \u001b[0mvalidation_steps\u001b[0m\u001b[0;34m=\u001b[0m\u001b[0mvalidation_steps\u001b[0m\u001b[0;34m,\u001b[0m\u001b[0;34m\u001b[0m\u001b[0;34m\u001b[0m\u001b[0m\n\u001b[0;32m-> 1239\u001b[0;31m                                         validation_freq=validation_freq)\n\u001b[0m\u001b[1;32m   1240\u001b[0m \u001b[0;34m\u001b[0m\u001b[0m\n\u001b[1;32m   1241\u001b[0m     def evaluate(self,\n",
      "\u001b[0;32m/usr/local/lib/python3.6/dist-packages/keras/engine/training_arrays.py\u001b[0m in \u001b[0;36mfit_loop\u001b[0;34m(model, fit_function, fit_inputs, out_labels, batch_size, epochs, verbose, callbacks, val_function, val_inputs, shuffle, initial_epoch, steps_per_epoch, validation_steps, validation_freq)\u001b[0m\n\u001b[1;32m    194\u001b[0m                     \u001b[0mins_batch\u001b[0m\u001b[0;34m[\u001b[0m\u001b[0mi\u001b[0m\u001b[0;34m]\u001b[0m \u001b[0;34m=\u001b[0m \u001b[0mins_batch\u001b[0m\u001b[0;34m[\u001b[0m\u001b[0mi\u001b[0m\u001b[0;34m]\u001b[0m\u001b[0;34m.\u001b[0m\u001b[0mtoarray\u001b[0m\u001b[0;34m(\u001b[0m\u001b[0;34m)\u001b[0m\u001b[0;34m\u001b[0m\u001b[0;34m\u001b[0m\u001b[0m\n\u001b[1;32m    195\u001b[0m \u001b[0;34m\u001b[0m\u001b[0m\n\u001b[0;32m--> 196\u001b[0;31m                 \u001b[0mouts\u001b[0m \u001b[0;34m=\u001b[0m \u001b[0mfit_function\u001b[0m\u001b[0;34m(\u001b[0m\u001b[0mins_batch\u001b[0m\u001b[0;34m)\u001b[0m\u001b[0;34m\u001b[0m\u001b[0;34m\u001b[0m\u001b[0m\n\u001b[0m\u001b[1;32m    197\u001b[0m                 \u001b[0mouts\u001b[0m \u001b[0;34m=\u001b[0m \u001b[0mto_list\u001b[0m\u001b[0;34m(\u001b[0m\u001b[0mouts\u001b[0m\u001b[0;34m)\u001b[0m\u001b[0;34m\u001b[0m\u001b[0;34m\u001b[0m\u001b[0m\n\u001b[1;32m    198\u001b[0m                 \u001b[0;32mfor\u001b[0m \u001b[0ml\u001b[0m\u001b[0;34m,\u001b[0m \u001b[0mo\u001b[0m \u001b[0;32min\u001b[0m \u001b[0mzip\u001b[0m\u001b[0;34m(\u001b[0m\u001b[0mout_labels\u001b[0m\u001b[0;34m,\u001b[0m \u001b[0mouts\u001b[0m\u001b[0;34m)\u001b[0m\u001b[0;34m:\u001b[0m\u001b[0;34m\u001b[0m\u001b[0;34m\u001b[0m\u001b[0m\n",
      "\u001b[0;32m/usr/local/lib/python3.6/dist-packages/tensorflow/python/keras/backend.py\u001b[0m in \u001b[0;36m__call__\u001b[0;34m(self, inputs)\u001b[0m\n\u001b[1;32m   3790\u001b[0m         \u001b[0mvalue\u001b[0m \u001b[0;34m=\u001b[0m \u001b[0mmath_ops\u001b[0m\u001b[0;34m.\u001b[0m\u001b[0mcast\u001b[0m\u001b[0;34m(\u001b[0m\u001b[0mvalue\u001b[0m\u001b[0;34m,\u001b[0m \u001b[0mtensor\u001b[0m\u001b[0;34m.\u001b[0m\u001b[0mdtype\u001b[0m\u001b[0;34m)\u001b[0m\u001b[0;34m\u001b[0m\u001b[0;34m\u001b[0m\u001b[0m\n\u001b[1;32m   3791\u001b[0m       \u001b[0mconverted_inputs\u001b[0m\u001b[0;34m.\u001b[0m\u001b[0mappend\u001b[0m\u001b[0;34m(\u001b[0m\u001b[0mvalue\u001b[0m\u001b[0;34m)\u001b[0m\u001b[0;34m\u001b[0m\u001b[0;34m\u001b[0m\u001b[0m\n\u001b[0;32m-> 3792\u001b[0;31m     \u001b[0moutputs\u001b[0m \u001b[0;34m=\u001b[0m \u001b[0mself\u001b[0m\u001b[0;34m.\u001b[0m\u001b[0m_graph_fn\u001b[0m\u001b[0;34m(\u001b[0m\u001b[0;34m*\u001b[0m\u001b[0mconverted_inputs\u001b[0m\u001b[0;34m)\u001b[0m\u001b[0;34m\u001b[0m\u001b[0;34m\u001b[0m\u001b[0m\n\u001b[0m\u001b[1;32m   3793\u001b[0m \u001b[0;34m\u001b[0m\u001b[0m\n\u001b[1;32m   3794\u001b[0m     \u001b[0;31m# EagerTensor.numpy() will often make a copy to ensure memory safety.\u001b[0m\u001b[0;34m\u001b[0m\u001b[0;34m\u001b[0m\u001b[0;34m\u001b[0m\u001b[0m\n",
      "\u001b[0;32m/usr/local/lib/python3.6/dist-packages/tensorflow/python/eager/function.py\u001b[0m in \u001b[0;36m__call__\u001b[0;34m(self, *args, **kwargs)\u001b[0m\n\u001b[1;32m   1603\u001b[0m       \u001b[0mTypeError\u001b[0m\u001b[0;34m:\u001b[0m \u001b[0mFor\u001b[0m \u001b[0minvalid\u001b[0m \u001b[0mpositional\u001b[0m\u001b[0;34m/\u001b[0m\u001b[0mkeyword\u001b[0m \u001b[0margument\u001b[0m \u001b[0mcombinations\u001b[0m\u001b[0;34m.\u001b[0m\u001b[0;34m\u001b[0m\u001b[0;34m\u001b[0m\u001b[0m\n\u001b[1;32m   1604\u001b[0m     \"\"\"\n\u001b[0;32m-> 1605\u001b[0;31m     \u001b[0;32mreturn\u001b[0m \u001b[0mself\u001b[0m\u001b[0;34m.\u001b[0m\u001b[0m_call_impl\u001b[0m\u001b[0;34m(\u001b[0m\u001b[0margs\u001b[0m\u001b[0;34m,\u001b[0m \u001b[0mkwargs\u001b[0m\u001b[0;34m)\u001b[0m\u001b[0;34m\u001b[0m\u001b[0;34m\u001b[0m\u001b[0m\n\u001b[0m\u001b[1;32m   1606\u001b[0m \u001b[0;34m\u001b[0m\u001b[0m\n\u001b[1;32m   1607\u001b[0m   \u001b[0;32mdef\u001b[0m \u001b[0m_call_impl\u001b[0m\u001b[0;34m(\u001b[0m\u001b[0mself\u001b[0m\u001b[0;34m,\u001b[0m \u001b[0margs\u001b[0m\u001b[0;34m,\u001b[0m \u001b[0mkwargs\u001b[0m\u001b[0;34m,\u001b[0m \u001b[0mcancellation_manager\u001b[0m\u001b[0;34m=\u001b[0m\u001b[0;32mNone\u001b[0m\u001b[0;34m)\u001b[0m\u001b[0;34m:\u001b[0m\u001b[0;34m\u001b[0m\u001b[0;34m\u001b[0m\u001b[0m\n",
      "\u001b[0;32m/usr/local/lib/python3.6/dist-packages/tensorflow/python/eager/function.py\u001b[0m in \u001b[0;36m_call_impl\u001b[0;34m(self, args, kwargs, cancellation_manager)\u001b[0m\n\u001b[1;32m   1643\u001b[0m       raise TypeError(\"Keyword arguments {} unknown. Expected {}.\".format(\n\u001b[1;32m   1644\u001b[0m           list(kwargs.keys()), list(self._arg_keywords)))\n\u001b[0;32m-> 1645\u001b[0;31m     \u001b[0;32mreturn\u001b[0m \u001b[0mself\u001b[0m\u001b[0;34m.\u001b[0m\u001b[0m_call_flat\u001b[0m\u001b[0;34m(\u001b[0m\u001b[0margs\u001b[0m\u001b[0;34m,\u001b[0m \u001b[0mself\u001b[0m\u001b[0;34m.\u001b[0m\u001b[0mcaptured_inputs\u001b[0m\u001b[0;34m,\u001b[0m \u001b[0mcancellation_manager\u001b[0m\u001b[0;34m)\u001b[0m\u001b[0;34m\u001b[0m\u001b[0;34m\u001b[0m\u001b[0m\n\u001b[0m\u001b[1;32m   1646\u001b[0m \u001b[0;34m\u001b[0m\u001b[0m\n\u001b[1;32m   1647\u001b[0m   \u001b[0;32mdef\u001b[0m \u001b[0m_filtered_call\u001b[0m\u001b[0;34m(\u001b[0m\u001b[0mself\u001b[0m\u001b[0;34m,\u001b[0m \u001b[0margs\u001b[0m\u001b[0;34m,\u001b[0m \u001b[0mkwargs\u001b[0m\u001b[0;34m)\u001b[0m\u001b[0;34m:\u001b[0m\u001b[0;34m\u001b[0m\u001b[0;34m\u001b[0m\u001b[0m\n",
      "\u001b[0;32m/usr/local/lib/python3.6/dist-packages/tensorflow/python/eager/function.py\u001b[0m in \u001b[0;36m_call_flat\u001b[0;34m(self, args, captured_inputs, cancellation_manager)\u001b[0m\n\u001b[1;32m   1744\u001b[0m       \u001b[0;31m# No tape is watching; skip to running the function.\u001b[0m\u001b[0;34m\u001b[0m\u001b[0;34m\u001b[0m\u001b[0;34m\u001b[0m\u001b[0m\n\u001b[1;32m   1745\u001b[0m       return self._build_call_outputs(self._inference_function.call(\n\u001b[0;32m-> 1746\u001b[0;31m           ctx, args, cancellation_manager=cancellation_manager))\n\u001b[0m\u001b[1;32m   1747\u001b[0m     forward_backward = self._select_forward_and_backward_functions(\n\u001b[1;32m   1748\u001b[0m         \u001b[0margs\u001b[0m\u001b[0;34m,\u001b[0m\u001b[0;34m\u001b[0m\u001b[0;34m\u001b[0m\u001b[0m\n",
      "\u001b[0;32m/usr/local/lib/python3.6/dist-packages/tensorflow/python/eager/function.py\u001b[0m in \u001b[0;36mcall\u001b[0;34m(self, ctx, args, cancellation_manager)\u001b[0m\n\u001b[1;32m    596\u001b[0m               \u001b[0minputs\u001b[0m\u001b[0;34m=\u001b[0m\u001b[0margs\u001b[0m\u001b[0;34m,\u001b[0m\u001b[0;34m\u001b[0m\u001b[0;34m\u001b[0m\u001b[0m\n\u001b[1;32m    597\u001b[0m               \u001b[0mattrs\u001b[0m\u001b[0;34m=\u001b[0m\u001b[0mattrs\u001b[0m\u001b[0;34m,\u001b[0m\u001b[0;34m\u001b[0m\u001b[0;34m\u001b[0m\u001b[0m\n\u001b[0;32m--> 598\u001b[0;31m               ctx=ctx)\n\u001b[0m\u001b[1;32m    599\u001b[0m         \u001b[0;32melse\u001b[0m\u001b[0;34m:\u001b[0m\u001b[0;34m\u001b[0m\u001b[0;34m\u001b[0m\u001b[0m\n\u001b[1;32m    600\u001b[0m           outputs = execute.execute_with_cancellation(\n",
      "\u001b[0;32m/usr/local/lib/python3.6/dist-packages/tensorflow/python/eager/execute.py\u001b[0m in \u001b[0;36mquick_execute\u001b[0;34m(op_name, num_outputs, inputs, attrs, ctx, name)\u001b[0m\n\u001b[1;32m     58\u001b[0m     \u001b[0mctx\u001b[0m\u001b[0;34m.\u001b[0m\u001b[0mensure_initialized\u001b[0m\u001b[0;34m(\u001b[0m\u001b[0;34m)\u001b[0m\u001b[0;34m\u001b[0m\u001b[0;34m\u001b[0m\u001b[0m\n\u001b[1;32m     59\u001b[0m     tensors = pywrap_tfe.TFE_Py_Execute(ctx._handle, device_name, op_name,\n\u001b[0;32m---> 60\u001b[0;31m                                         inputs, attrs, num_outputs)\n\u001b[0m\u001b[1;32m     61\u001b[0m   \u001b[0;32mexcept\u001b[0m \u001b[0mcore\u001b[0m\u001b[0;34m.\u001b[0m\u001b[0m_NotOkStatusException\u001b[0m \u001b[0;32mas\u001b[0m \u001b[0me\u001b[0m\u001b[0;34m:\u001b[0m\u001b[0;34m\u001b[0m\u001b[0;34m\u001b[0m\u001b[0m\n\u001b[1;32m     62\u001b[0m     \u001b[0;32mif\u001b[0m \u001b[0mname\u001b[0m \u001b[0;32mis\u001b[0m \u001b[0;32mnot\u001b[0m \u001b[0;32mNone\u001b[0m\u001b[0;34m:\u001b[0m\u001b[0;34m\u001b[0m\u001b[0;34m\u001b[0m\u001b[0m\n",
      "\u001b[0;31mKeyboardInterrupt\u001b[0m: "
     ]
    }
   ],
   "source": [
    "#Loading from checkpoint which we paused at 24th before\n",
    "epochs = 40\n",
    "new_model = load_model('/content/gdrive/My Drive/model_024-0.0565.h5')\n",
    "filepath = 'model_{epoch:03d}-{loss:.4f}.h5'\n",
    "checkpoint = ModelCheckpoint(filepath, monitor='loss', verbose=1, save_best_only=False, mode='min')\n",
    "callbacks_list = [checkpoint]\n",
    "history = new_model.fit(X_train,   Y_train, \n",
    "                    epochs=epochs, \n",
    "                    batch_size=1,\n",
    "                    verbose=1,\n",
    "                    validation_data=(X_test, Y_test),callbacks=callbacks_list)"
   ]
  },
  {
   "cell_type": "code",
   "execution_count": 0,
   "metadata": {
    "colab": {},
    "colab_type": "code",
    "id": "C8gvU-oKWJYY"
   },
   "outputs": [],
   "source": [
    "from google.colab import files\n",
    "files.download(\"model_034-0.0390.h5\")\n",
    "files.download(\"model_035-0.0403.h5\")\n",
    "files.download(\"model_036-0.0383.h5\")\n"
   ]
  },
  {
   "cell_type": "code",
   "execution_count": 0,
   "metadata": {
    "colab": {
     "base_uri": "https://localhost:8080/",
     "height": 1000
    },
    "colab_type": "code",
    "id": "DmaWe-dJdtt_",
    "outputId": "f498fd76-c8c3-4ec7-d260-3f06827d73fe"
   },
   "outputs": [
    {
     "name": "stdout",
     "output_type": "stream",
     "text": [
      "Train on 208 samples, validate on 53 samples\n",
      "Epoch 1/40\n",
      "208/208 [==============================] - 1006s 5s/step - loss: 0.0396 - accuracy: 0.9848 - val_loss: 0.0461 - val_accuracy: 0.9867\n",
      "\n",
      "Epoch 00001: saving model to model_001-0.0396.h5\n",
      "Epoch 2/40\n",
      "208/208 [==============================] - 1001s 5s/step - loss: 0.0390 - accuracy: 0.9852 - val_loss: 0.0360 - val_accuracy: 0.9885\n",
      "\n",
      "Epoch 00002: saving model to model_002-0.0390.h5\n",
      "Epoch 3/40\n",
      "208/208 [==============================] - 940s 5s/step - loss: 0.0372 - accuracy: 0.9857 - val_loss: 0.0400 - val_accuracy: 0.9876\n",
      "\n",
      "Epoch 00003: saving model to model_003-0.0372.h5\n",
      "Epoch 4/40\n",
      "208/208 [==============================] - 934s 4s/step - loss: 0.0370 - accuracy: 0.9858 - val_loss: 0.0417 - val_accuracy: 0.9874\n",
      "\n",
      "Epoch 00004: saving model to model_004-0.0370.h5\n",
      "Epoch 5/40\n",
      "208/208 [==============================] - 945s 5s/step - loss: 0.0403 - accuracy: 0.9844 - val_loss: 0.0500 - val_accuracy: 0.9848\n",
      "\n",
      "Epoch 00005: saving model to model_005-0.0403.h5\n",
      "Epoch 6/40\n",
      "208/208 [==============================] - 944s 5s/step - loss: 0.0398 - accuracy: 0.9849 - val_loss: 0.0515 - val_accuracy: 0.9857\n",
      "\n",
      "Epoch 00006: saving model to model_006-0.0398.h5\n",
      "Epoch 7/40\n",
      "208/208 [==============================] - 949s 5s/step - loss: 0.0381 - accuracy: 0.9857 - val_loss: 0.0375 - val_accuracy: 0.9877\n",
      "\n",
      "Epoch 00007: saving model to model_007-0.0381.h5\n",
      "Epoch 8/40\n",
      "208/208 [==============================] - 949s 5s/step - loss: 0.0363 - accuracy: 0.9862 - val_loss: 0.0483 - val_accuracy: 0.9843\n",
      "\n",
      "Epoch 00008: saving model to model_008-0.0363.h5\n",
      "Epoch 9/40\n",
      "208/208 [==============================] - 939s 5s/step - loss: 0.0359 - accuracy: 0.9864 - val_loss: 0.0412 - val_accuracy: 0.9868\n",
      "\n",
      "Epoch 00009: saving model to model_009-0.0359.h5\n",
      "Epoch 10/40\n",
      "208/208 [==============================] - 940s 5s/step - loss: 0.0352 - accuracy: 0.9867 - val_loss: 0.0439 - val_accuracy: 0.9877\n",
      "\n",
      "Epoch 00010: saving model to model_010-0.0352.h5\n",
      "Epoch 11/40\n",
      "208/208 [==============================] - 938s 5s/step - loss: 0.0345 - accuracy: 0.9871 - val_loss: 0.0484 - val_accuracy: 0.9843\n",
      "\n",
      "Epoch 00011: saving model to model_011-0.0345.h5\n",
      "Epoch 12/40\n",
      "208/208 [==============================] - 935s 4s/step - loss: 0.0352 - accuracy: 0.9866 - val_loss: 0.0487 - val_accuracy: 0.9835\n",
      "\n",
      "Epoch 00012: saving model to model_012-0.0352.h5\n",
      "Epoch 13/40\n",
      "208/208 [==============================] - 937s 5s/step - loss: 0.0365 - accuracy: 0.9862 - val_loss: 0.0427 - val_accuracy: 0.9878\n",
      "\n",
      "Epoch 00013: saving model to model_013-0.0365.h5\n",
      "Epoch 14/40\n",
      "208/208 [==============================] - 936s 4s/step - loss: 0.0350 - accuracy: 0.9868 - val_loss: 0.0625 - val_accuracy: 0.9799\n",
      "\n",
      "Epoch 00014: saving model to model_014-0.0350.h5\n",
      "Epoch 15/40\n",
      "208/208 [==============================] - 945s 5s/step - loss: 0.0354 - accuracy: 0.9869 - val_loss: 0.0400 - val_accuracy: 0.9871\n",
      "\n",
      "Epoch 00015: saving model to model_015-0.0354.h5\n",
      "Epoch 16/40\n",
      "208/208 [==============================] - 951s 5s/step - loss: 0.0337 - accuracy: 0.9874 - val_loss: 0.0389 - val_accuracy: 0.9880\n",
      "\n",
      "Epoch 00016: saving model to model_016-0.0337.h5\n",
      "Epoch 17/40\n",
      "208/208 [==============================] - 952s 5s/step - loss: 0.0332 - accuracy: 0.9876 - val_loss: 0.0428 - val_accuracy: 0.9870\n",
      "\n",
      "Epoch 00017: saving model to model_017-0.0332.h5\n",
      "Epoch 18/40\n",
      "208/208 [==============================] - 950s 5s/step - loss: 0.0324 - accuracy: 0.9880 - val_loss: 0.0455 - val_accuracy: 0.9861\n",
      "\n",
      "Epoch 00018: saving model to model_018-0.0324.h5\n",
      "Epoch 19/40\n",
      "208/208 [==============================] - 950s 5s/step - loss: 0.0328 - accuracy: 0.9879 - val_loss: 0.0384 - val_accuracy: 0.9876\n",
      "\n",
      "Epoch 00019: saving model to model_019-0.0328.h5\n",
      "Epoch 20/40\n",
      "208/208 [==============================] - 940s 5s/step - loss: 0.0327 - accuracy: 0.9879 - val_loss: 0.0421 - val_accuracy: 0.9866\n",
      "\n",
      "Epoch 00020: saving model to model_020-0.0327.h5\n",
      "Epoch 21/40\n",
      "208/208 [==============================] - 943s 5s/step - loss: 0.0317 - accuracy: 0.9883 - val_loss: 0.0358 - val_accuracy: 0.9892\n",
      "\n",
      "Epoch 00021: saving model to model_021-0.0317.h5\n",
      "Epoch 22/40\n",
      "208/208 [==============================] - 947s 5s/step - loss: 0.0328 - accuracy: 0.9877 - val_loss: 0.0380 - val_accuracy: 0.9882\n",
      "\n",
      "Epoch 00022: saving model to model_022-0.0328.h5\n",
      "Epoch 23/40\n",
      "208/208 [==============================] - 943s 5s/step - loss: 0.0315 - accuracy: 0.9885 - val_loss: 0.0496 - val_accuracy: 0.9834\n",
      "\n",
      "Epoch 00023: saving model to model_023-0.0315.h5\n",
      "Epoch 24/40\n",
      "208/208 [==============================] - 941s 5s/step - loss: 0.0316 - accuracy: 0.9884 - val_loss: 0.0373 - val_accuracy: 0.9886\n",
      "\n",
      "Epoch 00024: saving model to model_024-0.0316.h5\n",
      "Epoch 25/40\n",
      "208/208 [==============================] - 943s 5s/step - loss: 0.0306 - accuracy: 0.9888 - val_loss: 0.0346 - val_accuracy: 0.9897\n",
      "\n",
      "Epoch 00025: saving model to model_025-0.0306.h5\n",
      "Epoch 26/40\n",
      "208/208 [==============================] - 953s 5s/step - loss: 0.0319 - accuracy: 0.9885 - val_loss: 0.0359 - val_accuracy: 0.9892\n",
      "\n",
      "Epoch 00026: saving model to model_026-0.0319.h5\n",
      "Epoch 27/40\n",
      "208/208 [==============================] - 960s 5s/step - loss: 0.0307 - accuracy: 0.9888 - val_loss: 0.0370 - val_accuracy: 0.9885\n",
      "\n",
      "Epoch 00027: saving model to model_027-0.0307.h5\n",
      "Epoch 28/40\n",
      "208/208 [==============================] - 955s 5s/step - loss: 0.0311 - accuracy: 0.9886 - val_loss: 0.0364 - val_accuracy: 0.9893\n",
      "\n",
      "Epoch 00028: saving model to model_028-0.0311.h5\n",
      "Epoch 29/40\n",
      "208/208 [==============================] - 965s 5s/step - loss: 0.0310 - accuracy: 0.9887 - val_loss: 0.0395 - val_accuracy: 0.9882\n",
      "\n",
      "Epoch 00029: saving model to model_029-0.0310.h5\n",
      "Epoch 30/40\n",
      "208/208 [==============================] - 958s 5s/step - loss: 0.0308 - accuracy: 0.9890 - val_loss: 0.0395 - val_accuracy: 0.9873\n",
      "\n",
      "Epoch 00030: saving model to model_030-0.0308.h5\n",
      "Epoch 31/40\n",
      "208/208 [==============================] - 957s 5s/step - loss: 0.0301 - accuracy: 0.9892 - val_loss: 0.0364 - val_accuracy: 0.9888\n",
      "\n",
      "Epoch 00031: saving model to model_031-0.0301.h5\n",
      "Epoch 32/40\n",
      "208/208 [==============================] - 959s 5s/step - loss: 0.0291 - accuracy: 0.9894 - val_loss: 0.0427 - val_accuracy: 0.9864\n",
      "\n",
      "Epoch 00032: saving model to model_032-0.0291.h5\n",
      "Epoch 33/40\n",
      "208/208 [==============================] - 960s 5s/step - loss: 0.0293 - accuracy: 0.9893 - val_loss: 0.0506 - val_accuracy: 0.9853\n",
      "\n",
      "Epoch 00033: saving model to model_033-0.0293.h5\n",
      "Epoch 34/40\n",
      "208/208 [==============================] - 958s 5s/step - loss: 0.0290 - accuracy: 0.9895 - val_loss: 0.0376 - val_accuracy: 0.9895\n",
      "\n",
      "Epoch 00034: saving model to model_034-0.0290.h5\n",
      "Epoch 35/40\n",
      "208/208 [==============================] - 949s 5s/step - loss: 0.0303 - accuracy: 0.9890 - val_loss: 0.0521 - val_accuracy: 0.9851\n",
      "\n",
      "Epoch 00035: saving model to model_035-0.0303.h5\n",
      "Epoch 36/40\n",
      "208/208 [==============================] - 956s 5s/step - loss: 0.0301 - accuracy: 0.9892 - val_loss: 0.0441 - val_accuracy: 0.9869\n",
      "\n",
      "Epoch 00036: saving model to model_036-0.0301.h5\n",
      "Epoch 37/40\n",
      "208/208 [==============================] - 969s 5s/step - loss: 0.0286 - accuracy: 0.9896 - val_loss: 0.0422 - val_accuracy: 0.9855\n",
      "\n",
      "Epoch 00037: saving model to model_037-0.0286.h5\n",
      "Epoch 38/40\n",
      "208/208 [==============================] - 964s 5s/step - loss: 0.0290 - accuracy: 0.9895 - val_loss: 0.0406 - val_accuracy: 0.9878\n",
      "\n",
      "Epoch 00038: saving model to model_038-0.0290.h5\n",
      "Epoch 39/40\n",
      "208/208 [==============================] - 944s 5s/step - loss: 0.0291 - accuracy: 0.9895 - val_loss: 0.0389 - val_accuracy: 0.9877\n",
      "\n",
      "Epoch 00039: saving model to model_039-0.0291.h5\n",
      "Epoch 40/40\n",
      "208/208 [==============================] - 964s 5s/step - loss: 0.0279 - accuracy: 0.9899 - val_loss: 0.0369 - val_accuracy: 0.9898\n",
      "\n",
      "Epoch 00040: saving model to model_040-0.0279.h5\n"
     ]
    }
   ],
   "source": [
    "#Loading from checkpoint which we paused at 36th before\n",
    "epochs = 40\n",
    "new_model = load_model('/content/gdrive/My Drive/model_036-0.0383.h5')\n",
    "filepath = 'model_{epoch:03d}-{loss:.4f}.h5'\n",
    "checkpoint = ModelCheckpoint(filepath, monitor='loss', verbose=1, save_best_only=False, mode='min')\n",
    "callbacks_list = [checkpoint]\n",
    "history = new_model.fit(X_train,   Y_train, \n",
    "                    epochs=epochs, \n",
    "                    batch_size=1,\n",
    "                    verbose=1,\n",
    "                    validation_data=(X_test, Y_test),callbacks=callbacks_list)"
   ]
  },
  {
   "cell_type": "code",
   "execution_count": 0,
   "metadata": {
    "colab": {},
    "colab_type": "code",
    "id": "mlABSY3J1xte"
   },
   "outputs": [],
   "source": [
    "from google.colab import files\n",
    "files.download(\"model_040-0.0279.h5\")"
   ]
  },
  {
   "cell_type": "code",
   "execution_count": 0,
   "metadata": {
    "colab": {
     "base_uri": "https://localhost:8080/",
     "height": 693
    },
    "colab_type": "code",
    "id": "3U_qUqYj5A1a",
    "outputId": "1a4837fe-f36f-442b-e986-731ace65143a"
   },
   "outputs": [
    {
     "name": "stdout",
     "output_type": "stream",
     "text": [
      "Train on 208 samples, validate on 53 samples\n",
      "Epoch 1/40\n",
      "208/208 [==============================] - 1015s 5s/step - loss: 0.0275 - accuracy: 0.9899 - val_loss: 0.0377 - val_accuracy: 0.9891\n",
      "\n",
      "Epoch 00001: saving model to model_001-0.0275.h5\n",
      "Epoch 2/40\n",
      "208/208 [==============================] - 1021s 5s/step - loss: 0.0283 - accuracy: 0.9898 - val_loss: 0.0345 - val_accuracy: 0.9888\n",
      "\n",
      "Epoch 00002: saving model to model_002-0.0283.h5\n",
      "Epoch 3/40\n",
      "208/208 [==============================] - 1023s 5s/step - loss: 0.0277 - accuracy: 0.9900 - val_loss: 0.0576 - val_accuracy: 0.9797\n",
      "\n",
      "Epoch 00003: saving model to model_003-0.0277.h5\n",
      "Epoch 4/40\n",
      "208/208 [==============================] - 1021s 5s/step - loss: 0.0282 - accuracy: 0.9897 - val_loss: 0.0314 - val_accuracy: 0.9902\n",
      "\n",
      "Epoch 00004: saving model to model_004-0.0282.h5\n",
      "Epoch 5/40\n",
      "208/208 [==============================] - 1015s 5s/step - loss: 0.0274 - accuracy: 0.9900 - val_loss: 0.0421 - val_accuracy: 0.9867\n",
      "\n",
      "Epoch 00005: saving model to model_005-0.0274.h5\n",
      "Epoch 6/40\n",
      "208/208 [==============================] - 1016s 5s/step - loss: 0.0270 - accuracy: 0.9901 - val_loss: 0.0316 - val_accuracy: 0.9903\n",
      "\n",
      "Epoch 00006: saving model to model_006-0.0270.h5\n",
      "Epoch 7/40\n",
      "208/208 [==============================] - 1021s 5s/step - loss: 0.0271 - accuracy: 0.9901 - val_loss: 0.0416 - val_accuracy: 0.9890\n",
      "\n",
      "Epoch 00007: saving model to model_007-0.0271.h5\n",
      "Epoch 8/40\n",
      "208/208 [==============================] - 1028s 5s/step - loss: 0.0277 - accuracy: 0.9900 - val_loss: 0.0369 - val_accuracy: 0.9884\n",
      "\n",
      "Epoch 00008: saving model to model_008-0.0277.h5\n",
      "Epoch 9/40\n",
      "208/208 [==============================] - 1030s 5s/step - loss: 0.0296 - accuracy: 0.9892 - val_loss: 0.0389 - val_accuracy: 0.9879\n",
      "\n",
      "Epoch 00009: saving model to model_009-0.0296.h5\n",
      "Epoch 10/40\n",
      " 17/208 [=>............................] - ETA: 15:28 - loss: 0.0283 - accuracy: 0.9892"
     ]
    }
   ],
   "source": [
    "#Loading from checkpoint which we paused at 40th before\n",
    "epochs = 40\n",
    "new_model = load_model('/content/gdrive/My Drive/model_040-0.0279.h5')\n",
    "filepath = 'model_{epoch:03d}-{loss:.4f}.h5'\n",
    "checkpoint = ModelCheckpoint(filepath, monitor='loss', verbose=1, save_best_only=False, mode='min')\n",
    "callbacks_list = [checkpoint]\n",
    "history = new_model.fit(X_train,   Y_train, \n",
    "                    epochs=epochs, \n",
    "                    batch_size=1,\n",
    "                    verbose=1,\n",
    "                    validation_data=(X_test, Y_test),callbacks=callbacks_list)"
   ]
  },
  {
   "cell_type": "code",
   "execution_count": 0,
   "metadata": {
    "colab": {},
    "colab_type": "code",
    "id": "_e8pDuLTnfTM"
   },
   "outputs": [],
   "source": [
    "# Change the directory accordingly here\n",
    "X_testing= np.load('OAS1_0084_MR.npz')['arr_0'][44:132,52:156,44:132]\n",
    "Y_testing= np.load('OAS1_0084_MRseg.npz')['arr_0'][44:132,52:156,44:132]\n",
    "\n",
    "X_testing = X_testing.reshape(1,88,104,88,-1)\n",
    "\n",
    "print(X_testing.shape)\n",
    "print(Y_testing.shape)\n",
    "\n",
    "y_predict = np.around(model.predict(X_testing))\n",
    "y_predict = y_predict.reshape(-1,88,104,88)\n"
   ]
  },
  {
   "cell_type": "code",
   "execution_count": 0,
   "metadata": {
    "colab": {},
    "colab_type": "code",
    "id": "eOc9O3eGnfRm"
   },
   "outputs": [],
   "source": [
    "PJ = y_predict.reshape(-1)\n",
    "AJ = Y_testing.reshape(-1)\n",
    "\n",
    "count = 0\n",
    "for i in range(PJ.shape[0]):\n",
    "    if PJ[i] == AJ[i]:\n",
    "        if PJ[i]==1:\n",
    "            count += 1\n",
    "        \n",
    "total = np.count_nonzero(big_Y_plot)\n",
    "        \n",
    "print(count)      \n",
    "print(\"Predicted Accuracy :\", count/total)"
   ]
  },
  {
   "cell_type": "code",
   "execution_count": 0,
   "metadata": {
    "colab": {},
    "colab_type": "code",
    "id": "14J86b8bnfOl"
   },
   "outputs": [],
   "source": [
    "#PREDICTION\n",
    "\n",
    "f, ax = plt.subplots(1,3)\n",
    "\n",
    "X_plot = X_testing.reshape(88,104,88)\n",
    "y_plot = y_predict.reshape(88,104,88)\n",
    "\n",
    "# Since we truncated 25% of data on each side, we need to recalculate the index accordingly\n",
    "\n",
    "ax[0].imshow(X_plot[56,:,:],cmap=\"Greys\")\n",
    "ax[0].imshow(np.ma.masked_array(y_plot[56,:,:], y_plot[56,:,:]==0.0))\n",
    "\n",
    "ax[1].imshow(X_plot[:,18,:],cmap=\"Greys\")\n",
    "ax[1].imshow(np.ma.masked_array(y_plot[:,18,:], y_plot[:,18,:]==0.0))\n",
    "\n",
    "ax[2].imshow(X_plot[:,:,6],cmap=\"Greys\")\n",
    "ax[2].imshow(np.ma.masked_array(y_plot[:,:,6], y_plot[:,:,6]==0.0))"
   ]
  },
  {
   "cell_type": "code",
   "execution_count": 0,
   "metadata": {
    "colab": {},
    "colab_type": "code",
    "id": "q2uQudg9nfLa"
   },
   "outputs": [],
   "source": [
    "big_Y_plot = Y_testing.reshape(88,104,88)\n",
    "\n",
    "f, ax = plt.subplots(1,3)\n",
    "\n",
    "ax[0].imshow(X_plot[56,:,:],cmap=\"Greys\")\n",
    "ax[0].imshow(np.ma.masked_array(big_Y_plot[56,:,:], big_Y_plot[56,:,:]==0.0))\n",
    "\n",
    "ax[1].imshow(X_plot[:,18,:],cmap=\"Greys\")\n",
    "ax[1].imshow(np.ma.masked_array(big_Y_plot[:,18,:], big_Y_plot[:,18,:]==0.0))\n",
    "\n",
    "ax[2].imshow(X_plot[:,:,6],cmap=\"Greys\")\n",
    "ax[2].imshow(np.ma.masked_array(big_Y_plot[:,:,6], big_Y_plot[:,:,6]==0.0))"
   ]
  },
  {
   "cell_type": "code",
   "execution_count": 0,
   "metadata": {
    "colab": {},
    "colab_type": "code",
    "id": "nnJg7oPWnfG1"
   },
   "outputs": [],
   "source": [
    "print(\"Correct Segmented Percentage: \",round(np.count_nonzero(big_Y_plot)/PJ.shape[0],5))\n",
    "print(\"Correct Empty Part Percentage: \", round(np.count_nonzero(big_Y_plot==0)/PJ.shape[0],5))"
   ]
  },
  {
   "cell_type": "code",
   "execution_count": 0,
   "metadata": {
    "colab": {},
    "colab_type": "code",
    "id": "hB3ppCU-nfDa"
   },
   "outputs": [],
   "source": []
  },
  {
   "cell_type": "code",
   "execution_count": 0,
   "metadata": {
    "colab": {},
    "colab_type": "code",
    "id": "ygJK4aEInfBO"
   },
   "outputs": [],
   "source": []
  }
 ],
 "metadata": {
  "accelerator": "TPU",
  "colab": {
   "collapsed_sections": [],
   "machine_shape": "hm",
   "name": "Data Aug",
   "provenance": []
  },
  "kernelspec": {
   "display_name": "Python 3",
   "language": "python",
   "name": "python3"
  },
  "language_info": {
   "codemirror_mode": {
    "name": "ipython",
    "version": 3
   },
   "file_extension": ".py",
   "mimetype": "text/x-python",
   "name": "python",
   "nbconvert_exporter": "python",
   "pygments_lexer": "ipython3",
   "version": "3.7.4"
  }
 },
 "nbformat": 4,
 "nbformat_minor": 1
}
